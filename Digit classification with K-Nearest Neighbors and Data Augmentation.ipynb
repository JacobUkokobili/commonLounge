{
 "cells": [
  {
   "cell_type": "markdown",
   "metadata": {},
   "source": [
    "# Hands-on Project: Digit classification with K-Nearest Neighbors and Data Augmentation\n",
    "From Machine Learning Algorithms course"
   ]
  },
  {
   "cell_type": "markdown",
   "metadata": {},
   "source": [
    "In this hands-on project, we'll apply K-Nearest Neighbors algorithm to handwritten digit classification. Our main objectives are: a) to learn how to experiment with various hyper-parameters, b) introduce metrics classification accuracy and confusion matrix, c) develop intuition about how KNN works and d) use this intuition and data-augmentation to improve classification accuracy further."
   ]
  },
  {
   "cell_type": "markdown",
   "metadata": {},
   "source": [
    "## Overview\n",
    "This project guides you through using KNN for handwritten digit classification."
   ]
  },
  {
   "cell_type": "code",
   "execution_count": 1,
   "metadata": {},
   "outputs": [],
   "source": [
    "import pickle, gzip\n",
    "import pandas as pd\n",
    "import numpy as np"
   ]
  },
  {
   "cell_type": "markdown",
   "metadata": {},
   "source": [
    "## Dataset\n",
    "The MNIST dataset is a popularly used dataset in machine learning for the handwritten digit recognition task. Here is the link to the dataset https://www.dropbox.com/s/d3hz2dli4z6imfl/mnist_1000.pkl.gz?dl=1"
   ]
  },
  {
   "cell_type": "markdown",
   "metadata": {},
   "source": [
    "### Loading the dataset"
   ]
  },
  {
   "cell_type": "code",
   "execution_count": 2,
   "metadata": {},
   "outputs": [
    {
     "name": "stdout",
     "output_type": "stream",
     "text": [
      "training data points: 1000\n",
      "validation data points: 200\n",
      "testing data points: 200\n"
     ]
    }
   ],
   "source": [
    "## load data\n",
    " \n",
    "f = gzip.open('mnist_1000.pkl.gz', 'rb')\n",
    "\n",
    "trainData, trainLabels, valData, valLabels, testData, testLabels = pd.read_pickle(f)\n",
    "\n",
    "f.close()\n",
    " \n",
    "print(\"training data points: {}\".format(len(trainLabels)))\n",
    "print(\"validation data points: {}\".format(len(valLabels)))\n",
    "print(\"testing data points: {}\".format(len(testLabels)))"
   ]
  },
  {
   "cell_type": "markdown",
   "metadata": {},
   "source": [
    "### Looking at the images\n",
    "You can use the following snippet to look at some specific images. "
   ]
  },
  {
   "cell_type": "markdown",
   "metadata": {},
   "source": [
    "### Choosing the best hyperparameters"
   ]
  },
  {
   "cell_type": "code",
   "execution_count": 4,
   "metadata": {},
   "outputs": [],
   "source": [
    "from sklearn.neighbors import KNeighborsClassifier"
   ]
  },
  {
   "cell_type": "code",
   "execution_count": 5,
   "metadata": {},
   "outputs": [
    {
     "name": "stdout",
     "output_type": "stream",
     "text": [
      "1 0.88\n",
      "3 0.88\n",
      "5 0.86\n",
      "9 0.85\n",
      "15 0.81\n",
      "25 0.795\n"
     ]
    }
   ],
   "source": [
    "# Try the following values of K, and note the classification accuracy \n",
    "# on the validation data for each. K = 1, 3, 5, 9, 15, 25\n",
    "for k in [1, 3, 5, 9, 15, 25, ]:\n",
    "    model = KNeighborsClassifier(n_neighbors=k)\n",
    "    model.fit(trainData, trainLabels)\n",
    "    # KNeighborsClassifier(algorithm='auto', leaf_size=30, metric='minkowski',\n",
    "    #            metric_params=None, n_jobs=1, n_neighbors=5, p=2,\n",
    "    #            weights='uniform')\n",
    " \n",
    "    score = model.score(valData, valLabels)\n",
    "    print(k, score)"
   ]
  },
  {
   "cell_type": "code",
   "execution_count": 6,
   "metadata": {},
   "outputs": [
    {
     "name": "stdout",
     "output_type": "stream",
     "text": [
      "Achieved accuracy of 85.50% on test data\n"
     ]
    }
   ],
   "source": [
    "# re-train our classifier using the best k value and predict the labels of the\n",
    "# test data\n",
    "\n",
    "model = KNeighborsClassifier(n_neighbors=3)\n",
    "model.fit(trainData, trainLabels)\n",
    "accuracy = model.score(testData, testLabels)\n",
    "print(\"Achieved accuracy of %.2f%% on test data\" % (accuracy*100))"
   ]
  },
  {
   "cell_type": "code",
   "execution_count": 7,
   "metadata": {},
   "outputs": [],
   "source": [
    "# Inspect the performance per class, i.e. precision, recall and f-score for each digit.\n",
    "from sklearn.metrics import classification_report"
   ]
  },
  {
   "cell_type": "code",
   "execution_count": 8,
   "metadata": {},
   "outputs": [
    {
     "name": "stdout",
     "output_type": "stream",
     "text": [
      "Classification Report\n",
      "              precision    recall  f1-score   support\n",
      "\n",
      "           0       0.85      1.00      0.92        17\n",
      "           1       0.80      1.00      0.89        28\n",
      "           2       0.80      0.75      0.77        16\n",
      "           3       0.92      0.75      0.83        16\n",
      "           4       0.95      0.68      0.79        28\n",
      "           5       0.94      0.85      0.89        20\n",
      "           6       1.00      0.90      0.95        20\n",
      "           7       0.88      0.92      0.90        24\n",
      "           8       1.00      0.70      0.82        10\n",
      "           9       0.66      0.90      0.76        21\n",
      "\n",
      "    accuracy                           0.85       200\n",
      "   macro avg       0.88      0.84      0.85       200\n",
      "weighted avg       0.87      0.85      0.85       200\n",
      "\n"
     ]
    }
   ],
   "source": [
    "# show a final classification report demonstrating the accuracy of the classifier\n",
    "# for each of the digits\n",
    "\n",
    "predictions = model.predict(testData)\n",
    "print(\"Classification Report\")\n",
    "print(classification_report(testLabels, predictions))"
   ]
  },
  {
   "cell_type": "code",
   "execution_count": 9,
   "metadata": {},
   "outputs": [
    {
     "name": "stdout",
     "output_type": "stream",
     "text": [
      "Confusion Matrix\n",
      "[[17  0  0  0  0  0  0  0  0  0]\n",
      " [ 0 28  0  0  0  0  0  0  0  0]\n",
      " [ 1  2 12  0  0  0  0  1  0  0]\n",
      " [ 0  2  1 12  0  0  0  0  0  1]\n",
      " [ 0  1  0  0 19  0  0  0  0  8]\n",
      " [ 0  1  0  1  1 17  0  0  0  0]\n",
      " [ 2  0  0  0  0  0 18  0  0  0]\n",
      " [ 0  1  0  0  0  0  0 22  0  1]\n",
      " [ 0  0  2  0  0  1  0  0  7  0]\n",
      " [ 0  0  0  0  0  0  0  2  0 19]]\n"
     ]
    }
   ],
   "source": [
    "# Inspect the confusion matrix, i.e. when the correct label was digit I, \n",
    "# how times did the model predict J. \n",
    "\n",
    "from sklearn.metrics import confusion_matrix\n",
    "print(\"Confusion Matrix\")\n",
    "print(confusion_matrix(testLabels, predictions))"
   ]
  }
 ],
 "metadata": {
  "kernelspec": {
   "display_name": "Python 3",
   "language": "python",
   "name": "python3"
  },
  "language_info": {
   "codemirror_mode": {
    "name": "ipython",
    "version": 3
   },
   "file_extension": ".py",
   "mimetype": "text/x-python",
   "name": "python",
   "nbconvert_exporter": "python",
   "pygments_lexer": "ipython3",
   "version": "3.7.6"
  }
 },
 "nbformat": 4,
 "nbformat_minor": 4
}
