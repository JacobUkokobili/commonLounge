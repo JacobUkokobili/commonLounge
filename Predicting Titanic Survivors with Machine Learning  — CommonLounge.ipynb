{
 "cells": [
  {
   "cell_type": "code",
   "execution_count": null,
   "metadata": {
    "colab": {
     "base_uri": "https://localhost:8080/",
     "height": 357
    },
    "executionInfo": {
     "elapsed": 299,
     "status": "ok",
     "timestamp": 1551326604864,
     "user": {
      "displayName": "Anant Jain",
      "photoUrl": "https://lh3.googleusercontent.com/-zkOMU114fB0/AAAAAAAAAAI/AAAAAAAAxVE/Av7qRET2I98/s64/photo.jpg",
      "userId": "15207670452578651431"
     },
     "user_tz": 480
    },
    "id": "g4_j50Q-PUcZ",
    "outputId": "7a5c2c0b-f6bc-4263-efbe-6aeeeeb993d1"
   },
   "outputs": [
    {
     "name": "stdout",
     "output_type": "stream",
     "text": [
      "   PassengerId  Survived  Pclass  \\\n",
      "0            1         0       3   \n",
      "1            2         1       1   \n",
      "2            3         1       3   \n",
      "3            4         1       1   \n",
      "4            5         0       3   \n",
      "\n",
      "                                                Name     Sex   Age  SibSp  \\\n",
      "0                            Braund, Mr. Owen Harris    male  22.0      1   \n",
      "1  Cumings, Mrs. John Bradley (Florence Briggs Th...  female  38.0      1   \n",
      "2                             Heikkinen, Miss. Laina  female  26.0      0   \n",
      "3       Futrelle, Mrs. Jacques Heath (Lily May Peel)  female  35.0      1   \n",
      "4                           Allen, Mr. William Henry    male  35.0      0   \n",
      "\n",
      "   Parch            Ticket     Fare Cabin Embarked  \n",
      "0      0         A/5 21171   7.2500   NaN        S  \n",
      "1      0          PC 17599  71.2833   C85        C  \n",
      "2      0  STON/O2. 3101282   7.9250   NaN        S  \n",
      "3      0            113803  53.1000  C123        S  \n",
      "4      0            373450   8.0500   NaN        S  \n"
     ]
    }
   ],
   "source": [
    "import pandas as pd\n",
    "import numpy as np\n",
    "import matplotlib.pyplot as plt\n",
    "import seaborn as sns\n",
    "\n",
    "train_data = pd.read_csv('train.csv')\n",
    "test_data = pd.read_csv('test.csv')\n",
    "print(train_data.head())"
   ]
  },
  {
   "cell_type": "code",
   "execution_count": null,
   "metadata": {
    "colab": {
     "base_uri": "https://localhost:8080/",
     "height": 323
    },
    "executionInfo": {
     "elapsed": 307,
     "status": "ok",
     "timestamp": 1551326605932,
     "user": {
      "displayName": "Anant Jain",
      "photoUrl": "https://lh3.googleusercontent.com/-zkOMU114fB0/AAAAAAAAAAI/AAAAAAAAxVE/Av7qRET2I98/s64/photo.jpg",
      "userId": "15207670452578651431"
     },
     "user_tz": 480
    },
    "id": "LM8hfOgPQELT",
    "outputId": "07ad1a6d-8a12-44c6-9207-5d5d9f60bfb1"
   },
   "outputs": [
    {
     "name": "stdout",
     "output_type": "stream",
     "text": [
      "<class 'pandas.core.frame.DataFrame'>\n",
      "RangeIndex: 891 entries, 0 to 890\n",
      "Data columns (total 12 columns):\n",
      "PassengerId    891 non-null int64\n",
      "Survived       891 non-null int64\n",
      "Pclass         891 non-null int64\n",
      "Name           891 non-null object\n",
      "Sex            891 non-null object\n",
      "Age            714 non-null float64\n",
      "SibSp          891 non-null int64\n",
      "Parch          891 non-null int64\n",
      "Ticket         891 non-null object\n",
      "Fare           891 non-null float64\n",
      "Cabin          204 non-null object\n",
      "Embarked       889 non-null object\n",
      "dtypes: float64(2), int64(5), object(5)\n",
      "memory usage: 83.6+ KB\n",
      "None\n"
     ]
    }
   ],
   "source": [
    "print(train_data.info())"
   ]
  },
  {
   "cell_type": "code",
   "execution_count": null,
   "metadata": {
    "colab": {
     "base_uri": "https://localhost:8080/",
     "height": 173
    },
    "executionInfo": {
     "elapsed": 426,
     "status": "ok",
     "timestamp": 1551326606920,
     "user": {
      "displayName": "Anant Jain",
      "photoUrl": "https://lh3.googleusercontent.com/-zkOMU114fB0/AAAAAAAAAAI/AAAAAAAAxVE/Av7qRET2I98/s64/photo.jpg",
      "userId": "15207670452578651431"
     },
     "user_tz": 480
    },
    "id": "uBTZ2pXJQaZo",
    "outputId": "03096a80-fda4-420a-faf1-35ecfe9fd33d"
   },
   "outputs": [
    {
     "data": {
      "text/html": [
       "<div>\n",
       "<style scoped>\n",
       "    .dataframe tbody tr th:only-of-type {\n",
       "        vertical-align: middle;\n",
       "    }\n",
       "\n",
       "    .dataframe tbody tr th {\n",
       "        vertical-align: top;\n",
       "    }\n",
       "\n",
       "    .dataframe thead th {\n",
       "        text-align: right;\n",
       "    }\n",
       "</style>\n",
       "<table border=\"1\" class=\"dataframe\">\n",
       "  <thead>\n",
       "    <tr style=\"text-align: right;\">\n",
       "      <th></th>\n",
       "      <th>Name</th>\n",
       "      <th>Sex</th>\n",
       "      <th>Ticket</th>\n",
       "      <th>Cabin</th>\n",
       "      <th>Embarked</th>\n",
       "    </tr>\n",
       "  </thead>\n",
       "  <tbody>\n",
       "    <tr>\n",
       "      <th>count</th>\n",
       "      <td>891</td>\n",
       "      <td>891</td>\n",
       "      <td>891</td>\n",
       "      <td>204</td>\n",
       "      <td>889</td>\n",
       "    </tr>\n",
       "    <tr>\n",
       "      <th>unique</th>\n",
       "      <td>891</td>\n",
       "      <td>2</td>\n",
       "      <td>681</td>\n",
       "      <td>147</td>\n",
       "      <td>3</td>\n",
       "    </tr>\n",
       "    <tr>\n",
       "      <th>top</th>\n",
       "      <td>Penasco y Castellana, Mr. Victor de Satode</td>\n",
       "      <td>male</td>\n",
       "      <td>347082</td>\n",
       "      <td>B96 B98</td>\n",
       "      <td>S</td>\n",
       "    </tr>\n",
       "    <tr>\n",
       "      <th>freq</th>\n",
       "      <td>1</td>\n",
       "      <td>577</td>\n",
       "      <td>7</td>\n",
       "      <td>4</td>\n",
       "      <td>644</td>\n",
       "    </tr>\n",
       "  </tbody>\n",
       "</table>\n",
       "</div>"
      ],
      "text/plain": [
       "                                              Name   Sex  Ticket    Cabin  \\\n",
       "count                                          891   891     891      204   \n",
       "unique                                         891     2     681      147   \n",
       "top     Penasco y Castellana, Mr. Victor de Satode  male  347082  B96 B98   \n",
       "freq                                             1   577       7        4   \n",
       "\n",
       "       Embarked  \n",
       "count       889  \n",
       "unique        3  \n",
       "top           S  \n",
       "freq        644  "
      ]
     },
     "execution_count": 10,
     "metadata": {
      "tags": []
     },
     "output_type": "execute_result"
    }
   ],
   "source": [
    "train_data.describe(include=['O']) "
   ]
  },
  {
   "cell_type": "code",
   "execution_count": null,
   "metadata": {
    "colab": {
     "base_uri": "https://localhost:8080/",
     "height": 204
    },
    "executionInfo": {
     "elapsed": 360,
     "status": "ok",
     "timestamp": 1551326607883,
     "user": {
      "displayName": "Anant Jain",
      "photoUrl": "https://lh3.googleusercontent.com/-zkOMU114fB0/AAAAAAAAAAI/AAAAAAAAxVE/Av7qRET2I98/s64/photo.jpg",
      "userId": "15207670452578651431"
     },
     "user_tz": 480
    },
    "id": "RfPZCMG6Qg5h",
    "outputId": "dd898807-1e03-42a6-e87e-5f0ceeec87a4"
   },
   "outputs": [
    {
     "data": {
      "text/html": [
       "<div>\n",
       "<style scoped>\n",
       "    .dataframe tbody tr th:only-of-type {\n",
       "        vertical-align: middle;\n",
       "    }\n",
       "\n",
       "    .dataframe tbody tr th {\n",
       "        vertical-align: top;\n",
       "    }\n",
       "\n",
       "    .dataframe thead th {\n",
       "        text-align: right;\n",
       "    }\n",
       "</style>\n",
       "<table border=\"1\" class=\"dataframe\">\n",
       "  <thead>\n",
       "    <tr style=\"text-align: right;\">\n",
       "      <th></th>\n",
       "      <th>Survived</th>\n",
       "      <th>Pclass</th>\n",
       "      <th>Sex</th>\n",
       "      <th>Age</th>\n",
       "      <th>SibSp</th>\n",
       "      <th>Parch</th>\n",
       "      <th>Fare</th>\n",
       "      <th>Embarked</th>\n",
       "    </tr>\n",
       "  </thead>\n",
       "  <tbody>\n",
       "    <tr>\n",
       "      <th>0</th>\n",
       "      <td>0</td>\n",
       "      <td>3</td>\n",
       "      <td>male</td>\n",
       "      <td>22.0</td>\n",
       "      <td>1</td>\n",
       "      <td>0</td>\n",
       "      <td>7.2500</td>\n",
       "      <td>S</td>\n",
       "    </tr>\n",
       "    <tr>\n",
       "      <th>1</th>\n",
       "      <td>1</td>\n",
       "      <td>1</td>\n",
       "      <td>female</td>\n",
       "      <td>38.0</td>\n",
       "      <td>1</td>\n",
       "      <td>0</td>\n",
       "      <td>71.2833</td>\n",
       "      <td>C</td>\n",
       "    </tr>\n",
       "    <tr>\n",
       "      <th>2</th>\n",
       "      <td>1</td>\n",
       "      <td>3</td>\n",
       "      <td>female</td>\n",
       "      <td>26.0</td>\n",
       "      <td>0</td>\n",
       "      <td>0</td>\n",
       "      <td>7.9250</td>\n",
       "      <td>S</td>\n",
       "    </tr>\n",
       "    <tr>\n",
       "      <th>3</th>\n",
       "      <td>1</td>\n",
       "      <td>1</td>\n",
       "      <td>female</td>\n",
       "      <td>35.0</td>\n",
       "      <td>1</td>\n",
       "      <td>0</td>\n",
       "      <td>53.1000</td>\n",
       "      <td>S</td>\n",
       "    </tr>\n",
       "    <tr>\n",
       "      <th>4</th>\n",
       "      <td>0</td>\n",
       "      <td>3</td>\n",
       "      <td>male</td>\n",
       "      <td>35.0</td>\n",
       "      <td>0</td>\n",
       "      <td>0</td>\n",
       "      <td>8.0500</td>\n",
       "      <td>S</td>\n",
       "    </tr>\n",
       "  </tbody>\n",
       "</table>\n",
       "</div>"
      ],
      "text/plain": [
       "   Survived  Pclass     Sex   Age  SibSp  Parch     Fare Embarked\n",
       "0         0       3    male  22.0      1      0   7.2500        S\n",
       "1         1       1  female  38.0      1      0  71.2833        C\n",
       "2         1       3  female  26.0      0      0   7.9250        S\n",
       "3         1       1  female  35.0      1      0  53.1000        S\n",
       "4         0       3    male  35.0      0      0   8.0500        S"
      ]
     },
     "execution_count": 11,
     "metadata": {
      "tags": []
     },
     "output_type": "execute_result"
    }
   ],
   "source": [
    "train_data = train_data.drop(labels=['PassengerId', 'Name', 'Ticket', 'Cabin'], axis=1) \n",
    "test_data = test_data.drop(labels=['PassengerId', 'Name', 'Ticket', 'Cabin'], axis=1) \n",
    "train_data.head() # check everything looks okay"
   ]
  },
  {
   "cell_type": "code",
   "execution_count": null,
   "metadata": {
    "colab": {
     "base_uri": "https://localhost:8080/",
     "height": 375
    },
    "executionInfo": {
     "elapsed": 489,
     "status": "ok",
     "timestamp": 1551326608785,
     "user": {
      "displayName": "Anant Jain",
      "photoUrl": "https://lh3.googleusercontent.com/-zkOMU114fB0/AAAAAAAAAAI/AAAAAAAAxVE/Av7qRET2I98/s64/photo.jpg",
      "userId": "15207670452578651431"
     },
     "user_tz": 480
    },
    "id": "K3xDHs0NQpbD",
    "outputId": "480418e7-2eda-4581-f8ba-6aa1c3e37990"
   },
   "outputs": [
    {
     "data": {
      "text/plain": [
       "Text(0.5, 1.0, 'Distribution of Survival, (1 = Survived)')"
      ]
     },
     "execution_count": 12,
     "metadata": {
      "tags": []
     },
     "output_type": "execute_result"
    },
    {
     "data": {
      "image/png": "[encoded data removed]",
      "text/plain": [
       "<Figure size 576x396 with 1 Axes>"
      ]
     },
     "metadata": {
      "tags": []
     },
     "output_type": "display_data"
    }
   ],
   "source": [
    "train_data.Survived.value_counts().plot(kind='bar')\n",
    "plt.title(\"Distribution of Survival, (1 = Survived)\")"
   ]
  },
  {
   "cell_type": "code",
   "execution_count": null,
   "metadata": {
    "id": "olaODiPGQrmK"
   },
   "outputs": [],
   "source": [
    "g = sns.FacetGrid(train_data, col='Survived')\n",
    "g.map(plt.hist, 'Age', bins=20)\n",
    "\n",
    "g = sns.FacetGrid(train_data, col='Survived')\n",
    "g.map(plt.hist, 'Sex', bins=2)"
   ]
  },
  {
   "cell_type": "code",
   "execution_count": null,
   "metadata": {
    "colab": {
     "base_uri": "https://localhost:8080/",
     "height": 379
    },
    "executionInfo": {
     "elapsed": 588,
     "status": "ok",
     "timestamp": 1551326825951,
     "user": {
      "displayName": "Anant Jain",
      "photoUrl": "https://lh3.googleusercontent.com/-zkOMU114fB0/AAAAAAAAAAI/AAAAAAAAxVE/Av7qRET2I98/s64/photo.jpg",
      "userId": "15207670452578651431"
     },
     "user_tz": 480
    },
    "id": "ksIjqVvBRPrX",
    "outputId": "7e0994f7-89b7-4d2d-8226-c55b5980ef7c"
   },
   "outputs": [
    {
     "data": {
      "text/plain": [
       "Text(0.5, 1.0, 'Class Distribution')"
      ]
     },
     "execution_count": 18,
     "metadata": {
      "tags": []
     },
     "output_type": "execute_result"
    },
    {
     "data": {
      "image/png": "[encoded data removed]",
      "text/plain": [
       "<Figure size 576x396 with 1 Axes>"
      ]
     },
     "metadata": {
      "tags": []
     },
     "output_type": "display_data"
    }
   ],
   "source": [
    "train_data.Pclass.value_counts().plot(kind=\"barh\")\n",
    "plt.title(\"Class Distribution\")"
   ]
  },
  {
   "cell_type": "code",
   "execution_count": null,
   "metadata": {
    "colab": {
     "base_uri": "https://localhost:8080/",
     "height": 529
    },
    "executionInfo": {
     "elapsed": 730,
     "status": "ok",
     "timestamp": 1551326832382,
     "user": {
      "displayName": "Anant Jain",
      "photoUrl": "https://lh3.googleusercontent.com/-zkOMU114fB0/AAAAAAAAAAI/AAAAAAAAxVE/Av7qRET2I98/s64/photo.jpg",
      "userId": "15207670452578651431"
     },
     "user_tz": 480
    },
    "id": "I8enCQ9XSMse",
    "outputId": "2437756d-1cbb-4fc4-fd5c-fbecbd647760"
   },
   "outputs": [
    {
     "data": {
      "text/plain": [
       "<matplotlib.axes._subplots.AxesSubplot at 0x7f3ce44b5278>"
      ]
     },
     "execution_count": 19,
     "metadata": {
      "tags": []
     },
     "output_type": "execute_result"
    },
    {
     "data": {
      "image/png": "[encoded data removed]",
      "text/plain": [
       "<Figure size 720x576 with 1 Axes>"
      ]
     },
     "metadata": {
      "tags": []
     },
     "output_type": "display_data"
    }
   ],
   "source": [
    "pclass_survived = train_data[train_data['Survived']==1]['Pclass'].value_counts()\n",
    "pclass_dead = train_data[train_data['Survived']==0]['Pclass'].value_counts()\n",
    "df = pd.DataFrame([pclass_survived,pclass_dead])\n",
    "df.index = ['Survived','Dead']\n",
    "df.plot(kind='bar', stacked=True, figsize=(10,8))"
   ]
  },
  {
   "cell_type": "code",
   "execution_count": null,
   "metadata": {
    "colab": {
     "base_uri": "https://localhost:8080/",
     "height": 377
    },
    "executionInfo": {
     "elapsed": 610,
     "status": "ok",
     "timestamp": 1551326838327,
     "user": {
      "displayName": "Anant Jain",
      "photoUrl": "https://lh3.googleusercontent.com/-zkOMU114fB0/AAAAAAAAAAI/AAAAAAAAxVE/Av7qRET2I98/s64/photo.jpg",
      "userId": "15207670452578651431"
     },
     "user_tz": 480
    },
    "id": "JxsVYLS8SOOg",
    "outputId": "893d263f-caab-4ece-bd5f-a1d830e4928b"
   },
   "outputs": [
    {
     "data": {
      "text/plain": [
       "Text(0.5, 1.0, 'Passengers per boarding location')"
      ]
     },
     "execution_count": 20,
     "metadata": {
      "tags": []
     },
     "output_type": "execute_result"
    },
    {
     "data": {
      "image/png": "[encoded data removed]",
      "text/plain": [
       "<Figure size 576x396 with 1 Axes>"
      ]
     },
     "metadata": {
      "tags": []
     },
     "output_type": "display_data"
    }
   ],
   "source": [
    "train_data.Embarked.value_counts().plot(kind='bar')\n",
    "plt.title(\"Passengers per boarding location\")"
   ]
  },
  {
   "cell_type": "code",
   "execution_count": null,
   "metadata": {
    "colab": {
     "base_uri": "https://localhost:8080/",
     "height": 435
    },
    "executionInfo": {
     "elapsed": 667,
     "status": "ok",
     "timestamp": 1551326844199,
     "user": {
      "displayName": "Anant Jain",
      "photoUrl": "https://lh3.googleusercontent.com/-zkOMU114fB0/AAAAAAAAAAI/AAAAAAAAxVE/Av7qRET2I98/s64/photo.jpg",
      "userId": "15207670452578651431"
     },
     "user_tz": 480
    },
    "id": "a2EZnWxrSPtk",
    "outputId": "b1458cee-9abc-4299-d523-e5bca45209f6"
   },
   "outputs": [
    {
     "data": {
      "text/plain": [
       "Text(0.5, 1.0, 'Survival and Death in Different ports')"
      ]
     },
     "execution_count": 21,
     "metadata": {
      "tags": []
     },
     "output_type": "execute_result"
    },
    {
     "data": {
      "image/png": "[encoded data removed]",
      "text/plain": [
       "<Figure size 576x432 with 1 Axes>"
      ]
     },
     "metadata": {
      "tags": []
     },
     "output_type": "display_data"
    }
   ],
   "source": [
    "survived = train_data[train_data['Survived']==1]['Embarked'].value_counts()\n",
    "dead = train_data[train_data['Survived']==0]['Embarked'].value_counts()\n",
    "df = pd.DataFrame([survived,dead])\n",
    "df.index = ['Survived','Dead']\n",
    "df.plot(kind='bar', stacked=False, figsize=(8,6))\n",
    "plt.title(\"Survival and Death in Different ports\")"
   ]
  },
  {
   "cell_type": "code",
   "execution_count": null,
   "metadata": {
    "colab": {
     "base_uri": "https://localhost:8080/",
     "height": 361
    },
    "executionInfo": {
     "elapsed": 468,
     "status": "ok",
     "timestamp": 1551326851590,
     "user": {
      "displayName": "Anant Jain",
      "photoUrl": "https://lh3.googleusercontent.com/-zkOMU114fB0/AAAAAAAAAAI/AAAAAAAAxVE/Av7qRET2I98/s64/photo.jpg",
      "userId": "15207670452578651431"
     },
     "user_tz": 480
    },
    "id": "x98e16Q0SRH-",
    "outputId": "a208bfeb-ae9a-46f6-fa03-b7dd73e391f8"
   },
   "outputs": [
    {
     "data": {
      "image/png": "[encoded data removed]",
      "text/plain": [
       "<Figure size 576x396 with 1 Axes>"
      ]
     },
     "metadata": {
      "tags": []
     },
     "output_type": "display_data"
    }
   ],
   "source": [
    "survived_0 = train_data[train_data['Survived'] == 0][\"Fare\"].mean()\n",
    "survived_1 = train_data[train_data['Survived'] == 1][\"Fare\"].mean()\n",
    "xs  = [survived_0, survived_1]\n",
    "ys = ['Dead','Survived']\n",
    "plt.bar(ys, xs, 0.6, align='center',color = 'green')\n",
    "plt.xlabel('Outcome')\n",
    "plt.ylabel('Mean Fare')\n",
    "plt.show()"
   ]
  },
  {
   "cell_type": "code",
   "execution_count": null,
   "metadata": {
    "colab": {
     "base_uri": "https://localhost:8080/",
     "height": 204
    },
    "executionInfo": {
     "elapsed": 827,
     "status": "ok",
     "timestamp": 1551326860608,
     "user": {
      "displayName": "Anant Jain",
      "photoUrl": "https://lh3.googleusercontent.com/-zkOMU114fB0/AAAAAAAAAAI/AAAAAAAAxVE/Av7qRET2I98/s64/photo.jpg",
      "userId": "15207670452578651431"
     },
     "user_tz": 480
    },
    "id": "zYTc90xMSS-7",
    "outputId": "abb4fe80-8c33-43ac-b412-0e3fcf6b44d2"
   },
   "outputs": [
    {
     "data": {
      "text/html": [
       "<div>\n",
       "<style scoped>\n",
       "    .dataframe tbody tr th:only-of-type {\n",
       "        vertical-align: middle;\n",
       "    }\n",
       "\n",
       "    .dataframe tbody tr th {\n",
       "        vertical-align: top;\n",
       "    }\n",
       "\n",
       "    .dataframe thead th {\n",
       "        text-align: right;\n",
       "    }\n",
       "</style>\n",
       "<table border=\"1\" class=\"dataframe\">\n",
       "  <thead>\n",
       "    <tr style=\"text-align: right;\">\n",
       "      <th></th>\n",
       "      <th>Survived</th>\n",
       "      <th>Pclass</th>\n",
       "      <th>Sex</th>\n",
       "      <th>Age</th>\n",
       "      <th>SibSp</th>\n",
       "      <th>Parch</th>\n",
       "      <th>Fare</th>\n",
       "      <th>Embarked_C</th>\n",
       "      <th>Embarked_Q</th>\n",
       "      <th>Embarked_S</th>\n",
       "    </tr>\n",
       "  </thead>\n",
       "  <tbody>\n",
       "    <tr>\n",
       "      <th>0</th>\n",
       "      <td>0</td>\n",
       "      <td>3</td>\n",
       "      <td>0</td>\n",
       "      <td>22.0</td>\n",
       "      <td>1</td>\n",
       "      <td>0</td>\n",
       "      <td>7.2500</td>\n",
       "      <td>0</td>\n",
       "      <td>0</td>\n",
       "      <td>1</td>\n",
       "    </tr>\n",
       "    <tr>\n",
       "      <th>1</th>\n",
       "      <td>1</td>\n",
       "      <td>1</td>\n",
       "      <td>1</td>\n",
       "      <td>38.0</td>\n",
       "      <td>1</td>\n",
       "      <td>0</td>\n",
       "      <td>71.2833</td>\n",
       "      <td>1</td>\n",
       "      <td>0</td>\n",
       "      <td>0</td>\n",
       "    </tr>\n",
       "    <tr>\n",
       "      <th>2</th>\n",
       "      <td>1</td>\n",
       "      <td>3</td>\n",
       "      <td>1</td>\n",
       "      <td>26.0</td>\n",
       "      <td>0</td>\n",
       "      <td>0</td>\n",
       "      <td>7.9250</td>\n",
       "      <td>0</td>\n",
       "      <td>0</td>\n",
       "      <td>1</td>\n",
       "    </tr>\n",
       "    <tr>\n",
       "      <th>3</th>\n",
       "      <td>1</td>\n",
       "      <td>1</td>\n",
       "      <td>1</td>\n",
       "      <td>35.0</td>\n",
       "      <td>1</td>\n",
       "      <td>0</td>\n",
       "      <td>53.1000</td>\n",
       "      <td>0</td>\n",
       "      <td>0</td>\n",
       "      <td>1</td>\n",
       "    </tr>\n",
       "    <tr>\n",
       "      <th>4</th>\n",
       "      <td>0</td>\n",
       "      <td>3</td>\n",
       "      <td>0</td>\n",
       "      <td>35.0</td>\n",
       "      <td>0</td>\n",
       "      <td>0</td>\n",
       "      <td>8.0500</td>\n",
       "      <td>0</td>\n",
       "      <td>0</td>\n",
       "      <td>1</td>\n",
       "    </tr>\n",
       "  </tbody>\n",
       "</table>\n",
       "</div>"
      ],
      "text/plain": [
       "   Survived  Pclass  Sex   Age  SibSp  Parch     Fare  Embarked_C  Embarked_Q  \\\n",
       "0         0       3    0  22.0      1      0   7.2500           0           0   \n",
       "1         1       1    1  38.0      1      0  71.2833           1           0   \n",
       "2         1       3    1  26.0      0      0   7.9250           0           0   \n",
       "3         1       1    1  35.0      1      0  53.1000           0           0   \n",
       "4         0       3    0  35.0      0      0   8.0500           0           0   \n",
       "\n",
       "   Embarked_S  \n",
       "0           1  \n",
       "1           0  \n",
       "2           1  \n",
       "3           1  \n",
       "4           1  "
      ]
     },
     "execution_count": 23,
     "metadata": {
      "tags": []
     },
     "output_type": "execute_result"
    }
   ],
   "source": [
    "def wrangle(dataset):\n",
    "    # sex {male, female} to {0, 1}\n",
    "    dataset['Sex'] = dataset['Sex'].map( {'female': 1, 'male': 0} ).astype(int)\n",
    "    \n",
    "    # embarked {S, C, Q} => 3 binary variables\n",
    "    embarked_separate_port = pd.get_dummies(dataset['Embarked'], prefix='Embarked')\n",
    "    dataset = pd.concat([dataset, embarked_separate_port], axis=1)\n",
    "    return dataset.drop('Embarked', axis=1)\n",
    " \n",
    "train_data = wrangle(train_data)\n",
    "test_data = wrangle(test_data)\n",
    "train_data.head()"
   ]
  },
  {
   "cell_type": "code",
   "execution_count": null,
   "metadata": {
    "colab": {
     "base_uri": "https://localhost:8080/",
     "height": 408
    },
    "executionInfo": {
     "elapsed": 334,
     "status": "ok",
     "timestamp": 1551326868034,
     "user": {
      "displayName": "Anant Jain",
      "photoUrl": "https://lh3.googleusercontent.com/-zkOMU114fB0/AAAAAAAAAAI/AAAAAAAAxVE/Av7qRET2I98/s64/photo.jpg",
      "userId": "15207670452578651431"
     },
     "user_tz": 480
    },
    "id": "tHxVzOZ9SVFy",
    "outputId": "0b6d870b-84fd-4f94-c3df-636f0357e72b"
   },
   "outputs": [
    {
     "name": "stdout",
     "output_type": "stream",
     "text": [
      "            Survived    Pclass       Sex       Age     SibSp     Parch  \\\n",
      "Survived    1.000000 -0.338481  0.543351 -0.077221 -0.035322  0.081629   \n",
      "Pclass     -0.338481  1.000000 -0.131900 -0.369226  0.083081  0.018443   \n",
      "Sex         0.543351 -0.131900  1.000000 -0.093254  0.114631  0.245489   \n",
      "Age        -0.077221 -0.369226 -0.093254  1.000000 -0.308247 -0.189119   \n",
      "SibSp      -0.035322  0.083081  0.114631 -0.308247  1.000000  0.414838   \n",
      "Parch       0.081629  0.018443  0.245489 -0.189119  0.414838  1.000000   \n",
      "Fare        0.257307 -0.549500  0.182333  0.096067  0.159651  0.216225   \n",
      "Embarked_C  0.168240 -0.243292  0.082853  0.036261 -0.059528 -0.011069   \n",
      "Embarked_Q  0.003650  0.221009  0.074115 -0.022405 -0.026354 -0.081228   \n",
      "Embarked_S -0.155660  0.081720 -0.125722 -0.032523  0.070941  0.063036   \n",
      "\n",
      "                Fare  Embarked_C  Embarked_Q  Embarked_S  \n",
      "Survived    0.257307    0.168240    0.003650   -0.155660  \n",
      "Pclass     -0.549500   -0.243292    0.221009    0.081720  \n",
      "Sex         0.182333    0.082853    0.074115   -0.125722  \n",
      "Age         0.096067    0.036261   -0.022405   -0.032523  \n",
      "SibSp       0.159651   -0.059528   -0.026354    0.070941  \n",
      "Parch       0.216225   -0.011069   -0.081228    0.063036  \n",
      "Fare        1.000000    0.269335   -0.117216   -0.166603  \n",
      "Embarked_C  0.269335    1.000000   -0.148258   -0.778359  \n",
      "Embarked_Q -0.117216   -0.148258    1.000000   -0.496624  \n",
      "Embarked_S -0.166603   -0.778359   -0.496624    1.000000  \n"
     ]
    }
   ],
   "source": [
    "corr = train_data.corr()\n",
    "print(corr)"
   ]
  },
  {
   "cell_type": "code",
   "execution_count": null,
   "metadata": {
    "id": "In-UXM7oSXBh"
   },
   "outputs": [],
   "source": [
    "sns.heatmap(np.abs(corr),\n",
    "        xticklabels=corr.columns,\n",
    "        yticklabels=corr.columns)"
   ]
  },
  {
   "cell_type": "code",
   "execution_count": null,
   "metadata": {
    "id": "99P4Goy-SZa-"
   },
   "outputs": [],
   "source": [
    "guess_ages = np.zeros((2,3))\n",
    "for i in range(0, 2):\n",
    "    for j in range(0, 3):\n",
    "        guess_data = train_data[(train_data['Sex'] == i) & (train_data['Pclass'] == j+1)]['Age'].dropna()\n",
    "        age_guess = guess_data.median()\n",
    "        # Convert random age float to nearest .5 age\n",
    "        guess_ages[i,j] = int( age_guess/0.5 + 0.5 ) * 0.5\n",
    " \n",
    "def wrangle_age(dataset):\n",
    "    for i in range(0, 2):\n",
    "        for j in range(0, 3):\n",
    "            dataset.loc[ (dataset.Age.isnull()) & (dataset.Sex == i) & (dataset.Pclass == j+1),'Age'] = guess_ages[i,j]\n",
    "    dataset['Age'] = dataset['Age'].astype(int)\n",
    "    return dataset\n",
    " \n",
    "train_data = wrangle_age(train_data)\n",
    "test_data = wrangle_age(test_data)"
   ]
  },
  {
   "cell_type": "code",
   "execution_count": null,
   "metadata": {
    "id": "JVHvhUM_SgAu"
   },
   "outputs": [],
   "source": [
    "train_data['FamilySize'] = train_data['SibSp'] + train_data['Parch'] + 1\n",
    "test_data['FamilySize'] = test_data['SibSp'] + test_data['Parch'] + 1"
   ]
  },
  {
   "cell_type": "code",
   "execution_count": null,
   "metadata": {
    "colab": {
     "base_uri": "https://localhost:8080/",
     "height": 306
    },
    "executionInfo": {
     "elapsed": 486,
     "status": "ok",
     "timestamp": 1551327162437,
     "user": {
      "displayName": "Anant Jain",
      "photoUrl": "https://lh3.googleusercontent.com/-zkOMU114fB0/AAAAAAAAAAI/AAAAAAAAxVE/Av7qRET2I98/s64/photo.jpg",
      "userId": "15207670452578651431"
     },
     "user_tz": 480
    },
    "id": "HdJuB2dPSh3h",
    "outputId": "004859ec-acd6-4166-fbdb-1a86b70b9922"
   },
   "outputs": [
    {
     "name": "stdout",
     "output_type": "stream",
     "text": [
      "<class 'pandas.core.frame.DataFrame'>\n",
      "RangeIndex: 891 entries, 0 to 890\n",
      "Data columns (total 11 columns):\n",
      "Survived      891 non-null int64\n",
      "Pclass        891 non-null int64\n",
      "Sex           891 non-null int64\n",
      "Age           891 non-null int64\n",
      "SibSp         891 non-null int64\n",
      "Parch         891 non-null int64\n",
      "Fare          891 non-null float64\n",
      "Embarked_C    891 non-null uint8\n",
      "Embarked_Q    891 non-null uint8\n",
      "Embarked_S    891 non-null uint8\n",
      "FamilySize    891 non-null int64\n",
      "dtypes: float64(1), int64(7), uint8(3)\n",
      "memory usage: 58.4 KB\n",
      "None\n"
     ]
    }
   ],
   "source": [
    "print(train_data.info())"
   ]
  },
  {
   "cell_type": "code",
   "execution_count": null,
   "metadata": {
    "colab": {
     "base_uri": "https://localhost:8080/",
     "height": 289
    },
    "executionInfo": {
     "elapsed": 673,
     "status": "ok",
     "timestamp": 1551327165017,
     "user": {
      "displayName": "Anant Jain",
      "photoUrl": "https://lh3.googleusercontent.com/-zkOMU114fB0/AAAAAAAAAAI/AAAAAAAAxVE/Av7qRET2I98/s64/photo.jpg",
      "userId": "15207670452578651431"
     },
     "user_tz": 480
    },
    "id": "2Yc6wagzSjwm",
    "outputId": "9e522133-0eca-40ea-ce86-6ae876326d65"
   },
   "outputs": [
    {
     "name": "stdout",
     "output_type": "stream",
     "text": [
      "<class 'pandas.core.frame.DataFrame'>\n",
      "RangeIndex: 418 entries, 0 to 417\n",
      "Data columns (total 10 columns):\n",
      "Pclass        418 non-null int64\n",
      "Sex           418 non-null int64\n",
      "Age           418 non-null int64\n",
      "SibSp         418 non-null int64\n",
      "Parch         418 non-null int64\n",
      "Fare          418 non-null float64\n",
      "Embarked_C    418 non-null uint8\n",
      "Embarked_Q    418 non-null uint8\n",
      "Embarked_S    418 non-null uint8\n",
      "FamilySize    418 non-null int64\n",
      "dtypes: float64(1), int64(6), uint8(3)\n",
      "memory usage: 24.2 KB\n",
      "None\n"
     ]
    }
   ],
   "source": [
    "print(test_data.info())"
   ]
  },
  {
   "cell_type": "code",
   "execution_count": null,
   "metadata": {
    "id": "WhwB8Rx7Smjv"
   },
   "outputs": [],
   "source": [
    "mean_fare = 32\n",
    "test_data['Fare'] = test_data['Fare'].fillna(32)"
   ]
  },
  {
   "cell_type": "code",
   "execution_count": null,
   "metadata": {
    "id": "JtLzwgQKSo3i"
   },
   "outputs": [],
   "source": [
    "from sklearn.linear_model import LogisticRegression\n",
    "from sklearn.svm import SVC\n",
    "from sklearn.ensemble import RandomForestClassifier\n",
    "from sklearn.neighbors import KNeighborsClassifier"
   ]
  },
  {
   "cell_type": "code",
   "execution_count": null,
   "metadata": {
    "id": "IVXM_5pjS8Qs"
   },
   "outputs": [],
   "source": [
    "X_train = train_data.drop(\"Survived\", axis=1)[:800]\n",
    "Y_train = train_data[\"Survived\"][:800]\n",
    "X_crossValidation = train_data.drop(\"Survived\", axis=1)[800:]\n",
    "Y_crossValidation = train_data[\"Survived\"][800:]\n",
    "X_test = test_data"
   ]
  },
  {
   "cell_type": "code",
   "execution_count": null,
   "metadata": {
    "colab": {
     "base_uri": "https://localhost:8080/",
     "height": 125
    },
    "executionInfo": {
     "elapsed": 317,
     "status": "ok",
     "timestamp": 1551327180512,
     "user": {
      "displayName": "Anant Jain",
      "photoUrl": "https://lh3.googleusercontent.com/-zkOMU114fB0/AAAAAAAAAAI/AAAAAAAAxVE/Av7qRET2I98/s64/photo.jpg",
      "userId": "15207670452578651431"
     },
     "user_tz": 480
    },
    "id": "XeXSG8aMS-Cu",
    "outputId": "83b5c1e4-ba3e-4aa3-8b6c-5f7fba3848cc"
   },
   "outputs": [
    {
     "name": "stdout",
     "output_type": "stream",
     "text": [
      "80.0\n",
      "82.42\n"
     ]
    },
    {
     "name": "stderr",
     "output_type": "stream",
     "text": [
      "/usr/local/lib/python3.6/dist-packages/sklearn/linear_model/logistic.py:433: FutureWarning: Default solver will be changed to 'lbfgs' in 0.22. Specify a solver to silence this warning.\n",
      "  FutureWarning)\n"
     ]
    }
   ],
   "source": [
    "model_logistic = LogisticRegression()\n",
    "model_logistic.fit(X_train, Y_train)\n",
    "train_accuracy = round(model_logistic.score(X_train, Y_train) * 100, 2)\n",
    "validation_accuracy = round(model_logistic.score(X_crossValidation, Y_crossValidation) * 100, 2)\n",
    "Y_predL = model_logistic.predict(X_test)\n",
    "print(train_accuracy)\n",
    "print(validation_accuracy)"
   ]
  },
  {
   "cell_type": "code",
   "execution_count": null,
   "metadata": {
    "colab": {
     "base_uri": "https://localhost:8080/",
     "height": 125
    },
    "executionInfo": {
     "elapsed": 441,
     "status": "ok",
     "timestamp": 1551327217976,
     "user": {
      "displayName": "Anant Jain",
      "photoUrl": "https://lh3.googleusercontent.com/-zkOMU114fB0/AAAAAAAAAAI/AAAAAAAAxVE/Av7qRET2I98/s64/photo.jpg",
      "userId": "15207670452578651431"
     },
     "user_tz": 480
    },
    "id": "KxXOZUmLS_WB",
    "outputId": "a537bbb7-25d8-4995-ef45-8da856c309e4"
   },
   "outputs": [
    {
     "name": "stdout",
     "output_type": "stream",
     "text": [
      "89.62\n",
      "79.12\n"
     ]
    },
    {
     "name": "stderr",
     "output_type": "stream",
     "text": [
      "/usr/local/lib/python3.6/dist-packages/sklearn/svm/base.py:196: FutureWarning: The default value of gamma will change from 'auto' to 'scale' in version 0.22 to account better for unscaled features. Set gamma explicitly to 'auto' or 'scale' to avoid this warning.\n",
      "  \"avoid this warning.\", FutureWarning)\n"
     ]
    }
   ],
   "source": [
    "svc = SVC()\n",
    "svc.fit(X_train, Y_train)\n",
    "train_accuracy = round(svc.score(X_train, Y_train) * 100, 2)\n",
    "validation_accuracy = round(svc.score(X_crossValidation, Y_crossValidation) * 100, 2)\n",
    "Y_predS = svc.predict(X_test)\n",
    "print(train_accuracy)\n",
    "print(validation_accuracy)"
   ]
  },
  {
   "cell_type": "code",
   "execution_count": null,
   "metadata": {
    "colab": {
     "base_uri": "https://localhost:8080/",
     "height": 51
    },
    "executionInfo": {
     "elapsed": 315,
     "status": "ok",
     "timestamp": 1551327230442,
     "user": {
      "displayName": "Anant Jain",
      "photoUrl": "https://lh3.googleusercontent.com/-zkOMU114fB0/AAAAAAAAAAI/AAAAAAAAxVE/Av7qRET2I98/s64/photo.jpg",
      "userId": "15207670452578651431"
     },
     "user_tz": 480
    },
    "id": "jjC1SlFrTsbD",
    "outputId": "fa2e1ccf-d593-47e2-f989-9388d4dcbda5"
   },
   "outputs": [
    {
     "name": "stdout",
     "output_type": "stream",
     "text": [
      "82.5\n",
      "75.82\n"
     ]
    }
   ],
   "source": [
    "knn = KNeighborsClassifier(n_neighbors = 3)\n",
    "knn.fit(X_train, Y_train)\n",
    "train_accuracy = round(knn.score(X_train, Y_train) * 100, 2)\n",
    "validation_accuracy = round(knn.score(X_crossValidation, Y_crossValidation) * 100, 2)\n",
    "Y_predK = knn.predict(X_test)\n",
    "print(train_accuracy)\n",
    "print(validation_accuracy)"
   ]
  },
  {
   "cell_type": "code",
   "execution_count": null,
   "metadata": {
    "colab": {
     "base_uri": "https://localhost:8080/",
     "height": 51
    },
    "executionInfo": {
     "elapsed": 446,
     "status": "ok",
     "timestamp": 1551327237462,
     "user": {
      "displayName": "Anant Jain",
      "photoUrl": "https://lh3.googleusercontent.com/-zkOMU114fB0/AAAAAAAAAAI/AAAAAAAAxVE/Av7qRET2I98/s64/photo.jpg",
      "userId": "15207670452578651431"
     },
     "user_tz": 480
    },
    "id": "NSN3XDajTvf5",
    "outputId": "4ff38aff-55c6-4176-efa6-1b2a7030e287"
   },
   "outputs": [
    {
     "name": "stdout",
     "output_type": "stream",
     "text": [
      "98.0\n",
      "85.71\n"
     ]
    }
   ],
   "source": [
    "random_forest = RandomForestClassifier(n_estimators=100)\n",
    "random_forest.fit(X_train, Y_train)\n",
    "train_accuracy = round(random_forest.score(X_train, Y_train) * 100, 2)\n",
    "validation_accuracy = round(random_forest.score(X_crossValidation, Y_crossValidation) * 100, 2)\n",
    "Y_predR = random_forest.predict(X_test)\n",
    "print(train_accuracy)\n",
    "print(validation_accuracy)"
   ]
  },
  {
   "cell_type": "code",
   "execution_count": null,
   "metadata": {
    "id": "5yZ-ZRS7URR-"
   },
   "outputs": [],
   "source": []
  }
 ],
 "metadata": {
  "colab": {
   "name": "Predicting Titanic Survivors with Machine Learning  — CommonLounge.ipynb",
   "provenance": [
    {
     "file_id": "1AtiLr1AbIMjbwRuZRh7vMBACmmMCeu4A",
     "timestamp": 1601696706636
    }
   ]
  },
  "kernelspec": {
   "display_name": "Python 3",
   "language": "python",
   "name": "python3"
  },
  "language_info": {
   "codemirror_mode": {
    "name": "ipython",
    "version": 3
   },
   "file_extension": ".py",
   "mimetype": "text/x-python",
   "name": "python",
   "nbconvert_exporter": "python",
   "pygments_lexer": "ipython3",
   "version": "3.7.6"
  }
 },
 "nbformat": 4,
 "nbformat_minor": 4
}
