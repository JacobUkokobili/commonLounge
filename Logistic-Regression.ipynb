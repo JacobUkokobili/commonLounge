{
 "cells": [
  {
   "cell_type": "markdown",
   "metadata": {
    "id": "uoEWMwMjSUu5"
   },
   "source": [
    "# Python Implementation using NumPy\n",
    "Let's start by loading the iris dataset, which contains information about from iris flowers."
   ]
  },
  {
   "cell_type": "code",
   "execution_count": 1,
   "metadata": {
    "executionInfo": {
     "elapsed": 1252,
     "status": "ok",
     "timestamp": 1601474046195,
     "user": {
      "displayName": "Jacob Ukokobili",
      "photoUrl": "https://lh3.googleusercontent.com/a-/AOh14Gh4BkXSLSE0fwqvhEqIBoGecaG_6YzOZX4tvcbiTA=s64",
      "userId": "01028958666556064584"
     },
     "user_tz": -60
    },
    "id": "4UnLp7mCSAWe"
   },
   "outputs": [],
   "source": [
    "import numpy as np\n",
    "from sklearn import datasets"
   ]
  },
  {
   "cell_type": "code",
   "execution_count": 2,
   "metadata": {
    "executionInfo": {
     "elapsed": 769,
     "status": "ok",
     "timestamp": 1601474075132,
     "user": {
      "displayName": "Jacob Ukokobili",
      "photoUrl": "https://lh3.googleusercontent.com/a-/AOh14Gh4BkXSLSE0fwqvhEqIBoGecaG_6YzOZX4tvcbiTA=s64",
      "userId": "01028958666556064584"
     },
     "user_tz": -60
    },
    "id": "aA2LbujySbTf"
   },
   "outputs": [],
   "source": [
    "# load iris dataset \n",
    "iris = datasets.load_iris()\n",
    "X = iris.data[:, :] \n",
    "y = (iris.target != 0) * 1   # original dataset has 4 classes. We make y binary."
   ]
  },
  {
   "cell_type": "code",
   "execution_count": 3,
   "metadata": {
    "colab": {
     "base_uri": "https://localhost:8080/",
     "height": 204
    },
    "executionInfo": {
     "elapsed": 823,
     "status": "ok",
     "timestamp": 1601474090412,
     "user": {
      "displayName": "Jacob Ukokobili",
      "photoUrl": "https://lh3.googleusercontent.com/a-/AOh14Gh4BkXSLSE0fwqvhEqIBoGecaG_6YzOZX4tvcbiTA=s64",
      "userId": "01028958666556064584"
     },
     "user_tz": -60
    },
    "id": "XkYMoNrwSxZh",
    "outputId": "e8a529c2-e31a-427c-d1a1-ef6b0f9bb498"
   },
   "outputs": [
    {
     "name": "stdout",
     "output_type": "stream",
     "text": [
      "[[5.1 3.5 1.4 0.2]\n",
      " [4.9 3.  1.4 0.2]\n",
      " [4.7 3.2 1.3 0.2]\n",
      " [4.6 3.1 1.5 0.2]\n",
      " [5.  3.6 1.4 0.2]\n",
      " [5.4 3.9 1.7 0.4]\n",
      " [4.6 3.4 1.4 0.3]\n",
      " [5.  3.4 1.5 0.2]\n",
      " [4.4 2.9 1.4 0.2]\n",
      " [4.9 3.1 1.5 0.1]]\n",
      "[0 0 0 0 0 0 0 0 0 0]\n"
     ]
    }
   ],
   "source": [
    "print(X[:10, :])\n",
    "print(y[:10])"
   ]
  },
  {
   "cell_type": "markdown",
   "metadata": {
    "id": "Lq7fHSmjTip1"
   },
   "source": [
    "We have 4 input features in the dataset. The target variable here is which type of iris flower it is (there are 4 types in the dataset). To make it binary, we will only classify whether the flower is Type 0 or not."
   ]
  },
  {
   "cell_type": "markdown",
   "metadata": {
    "id": "UiUx1ih3TsJM"
   },
   "source": [
    "split the dataset into train and test"
   ]
  },
  {
   "cell_type": "code",
   "execution_count": 5,
   "metadata": {
    "executionInfo": {
     "elapsed": 1044,
     "status": "ok",
     "timestamp": 1601474455909,
     "user": {
      "displayName": "Jacob Ukokobili",
      "photoUrl": "https://lh3.googleusercontent.com/a-/AOh14Gh4BkXSLSE0fwqvhEqIBoGecaG_6YzOZX4tvcbiTA=s64",
      "userId": "01028958666556064584"
     },
     "user_tz": -60
    },
    "id": "8fXnTR_iTkjj"
   },
   "outputs": [],
   "source": [
    "# random shuffle\n",
    "a = np.arange(150)\n",
    "np.random.seed(42)\n",
    "np.random.shuffle(a)\n",
    "test = list(a[0:30])\n",
    "train = list(a[30:150])"
   ]
  },
  {
   "cell_type": "code",
   "execution_count": 7,
   "metadata": {
    "executionInfo": {
     "elapsed": 724,
     "status": "ok",
     "timestamp": 1601474495558,
     "user": {
      "displayName": "Jacob Ukokobili",
      "photoUrl": "https://lh3.googleusercontent.com/a-/AOh14Gh4BkXSLSE0fwqvhEqIBoGecaG_6YzOZX4tvcbiTA=s64",
      "userId": "01028958666556064584"
     },
     "user_tz": -60
    },
    "id": "9SWWOfjpS1IL"
   },
   "outputs": [],
   "source": [
    "# train/test split\n",
    "X_train = X[train]\n",
    "X_test = X[test]"
   ]
  },
  {
   "cell_type": "code",
   "execution_count": 8,
   "metadata": {
    "executionInfo": {
     "elapsed": 882,
     "status": "ok",
     "timestamp": 1601474505046,
     "user": {
      "displayName": "Jacob Ukokobili",
      "photoUrl": "https://lh3.googleusercontent.com/a-/AOh14Gh4BkXSLSE0fwqvhEqIBoGecaG_6YzOZX4tvcbiTA=s64",
      "userId": "01028958666556064584"
     },
     "user_tz": -60
    },
    "id": "WFMYbIy-UYC1"
   },
   "outputs": [],
   "source": [
    "y_train = y[train]\n",
    "y_test = y[test]"
   ]
  },
  {
   "cell_type": "markdown",
   "metadata": {
    "id": "5gqpGdqAUt8s"
   },
   "source": [
    "write all the helper functions we need for logistic regression:"
   ]
  },
  {
   "cell_type": "code",
   "execution_count": 9,
   "metadata": {
    "executionInfo": {
     "elapsed": 1010,
     "status": "ok",
     "timestamp": 1601474623908,
     "user": {
      "displayName": "Jacob Ukokobili",
      "photoUrl": "https://lh3.googleusercontent.com/a-/AOh14Gh4BkXSLSE0fwqvhEqIBoGecaG_6YzOZX4tvcbiTA=s64",
      "userId": "01028958666556064584"
     },
     "user_tz": -60
    },
    "id": "k-Kc9dntUvDu"
   },
   "outputs": [],
   "source": [
    "## general functions\n",
    "def sigmoid(z):\n",
    "  return 1 / (1 + np.exp(-z))\n",
    "  \n",
    "def zed(W, b, x):\n",
    "  # Computes the weighted sum of inputs\n",
    "  return x.dot(W) + b\n",
    " \n",
    "def prob_prediction(W, b, x):\n",
    "  # Returns the probability after passing through sigmoid\n",
    "  return sigmoid(zed(W, b, x))\n",
    " \n",
    "def cost_func(h, y):\n",
    "  return (-y * np.log(h) - (1 - y) * np.log(1 - h)).mean()\n",
    " \n",
    "## evaluation functions \n",
    "# label predictions\n",
    "def predict(W, b, x):\n",
    "  prob = prob_prediction(W, b, x)\n",
    "  return prob >= 0.5\n",
    " \n",
    "# accuracy evaluation\n",
    "def evaluate(h_test, y):\n",
    "  return (h_test == y).mean() * 100"
   ]
  },
  {
   "cell_type": "markdown",
   "metadata": {
    "id": "ph-AgjFQXd6e"
   },
   "source": [
    "we can perform the training and testing:"
   ]
  },
  {
   "cell_type": "code",
   "execution_count": 10,
   "metadata": {
    "executionInfo": {
     "elapsed": 951,
     "status": "ok",
     "timestamp": 1601475351479,
     "user": {
      "displayName": "Jacob Ukokobili",
      "photoUrl": "https://lh3.googleusercontent.com/a-/AOh14Gh4BkXSLSE0fwqvhEqIBoGecaG_6YzOZX4tvcbiTA=s64",
      "userId": "01028958666556064584"
     },
     "user_tz": -60
    },
    "id": "Aou5qUlyXfFn"
   },
   "outputs": [],
   "source": [
    "## initialization\n",
    "W = np.random.uniform(low=-0.1, high=0.1, size=X_train.shape[1])\n",
    "b = 0.0\n",
    "learning_rate = 0.1\n",
    "epochs = 20000"
   ]
  },
  {
   "cell_type": "code",
   "execution_count": 13,
   "metadata": {
    "colab": {
     "base_uri": "https://localhost:8080/",
     "height": 374
    },
    "executionInfo": {
     "elapsed": 1750,
     "status": "ok",
     "timestamp": 1601475706250,
     "user": {
      "displayName": "Jacob Ukokobili",
      "photoUrl": "https://lh3.googleusercontent.com/a-/AOh14Gh4BkXSLSE0fwqvhEqIBoGecaG_6YzOZX4tvcbiTA=s64",
      "userId": "01028958666556064584"
     },
     "user_tz": -60
    },
    "id": "eIa65erxYNFq",
    "outputId": "279e7bdc-e920-4137-fd97-eb386889cd32"
   },
   "outputs": [
    {
     "name": "stdout",
     "output_type": "stream",
     "text": [
      "Training:\n",
      "Epoch 0: Cost = 0.725486\n",
      "Epoch 1000: Cost = 0.007366\n",
      "Epoch 2000: Cost = 0.003973\n",
      "Epoch 3000: Cost = 0.002771\n",
      "Epoch 4000: Cost = 0.002147\n",
      "Epoch 5000: Cost = 0.001761\n",
      "Epoch 6000: Cost = 0.001498\n",
      "Epoch 7000: Cost = 0.001306\n",
      "Epoch 8000: Cost = 0.001160\n",
      "Epoch 9000: Cost = 0.001045\n",
      "Epoch 10000: Cost = 0.000952\n",
      "Epoch 11000: Cost = 0.000875\n",
      "Epoch 12000: Cost = 0.000809\n",
      "Epoch 13000: Cost = 0.000754\n",
      "Epoch 14000: Cost = 0.000706\n",
      "Epoch 15000: Cost = 0.000664\n",
      "Epoch 16000: Cost = 0.000627\n",
      "Epoch 17000: Cost = 0.000594\n",
      "Epoch 18000: Cost = 0.000564\n",
      "Epoch 19000: Cost = 0.000538\n"
     ]
    }
   ],
   "source": [
    "## training: fit the model to training set\n",
    "print('Training:')\n",
    "for i in range(epochs):\n",
    "  # calculate predictions\n",
    "  y_predict = prob_prediction(W, b, X_train) \n",
    "  \n",
    "  # calculate error and cost (mean squared error)\n",
    "  cost = cost_func(y_predict, y_train)\n",
    " \n",
    "  # calculate gradients\n",
    "  W_gradient = (1.0/len(X_train)) * (y_predict - y_train).dot(X_train)\n",
    "  b_gradient = (1.0/len(X_train)) * np.sum(y_predict - y_train)\n",
    "    \n",
    "  # diagnostic output\n",
    "  if i % 1000 == 0: print(\"Epoch %d: Cost = %f\" % (i, cost))\n",
    "      \n",
    "  # update parameters\n",
    "  W = W - (learning_rate * W_gradient)\n",
    "  b = b - (learning_rate * b_gradient)"
   ]
  },
  {
   "cell_type": "code",
   "execution_count": 14,
   "metadata": {
    "colab": {
     "base_uri": "https://localhost:8080/",
     "height": 51
    },
    "executionInfo": {
     "elapsed": 890,
     "status": "ok",
     "timestamp": 1601475719955,
     "user": {
      "displayName": "Jacob Ukokobili",
      "photoUrl": "https://lh3.googleusercontent.com/a-/AOh14Gh4BkXSLSE0fwqvhEqIBoGecaG_6YzOZX4tvcbiTA=s64",
      "userId": "01028958666556064584"
     },
     "user_tz": -60
    },
    "id": "4tR3M0dJYNlQ",
    "outputId": "83d0964b-2496-4e47-9724-f5439e666a29"
   },
   "outputs": [
    {
     "name": "stdout",
     "output_type": "stream",
     "text": [
      "Testing:\n",
      "Accuracy percentage: 100.0\n"
     ]
    }
   ],
   "source": [
    "## evaluation\n",
    "print('Testing:')\n",
    "test_set_predictions = predict(W, b, X_test)\n",
    "print('Accuracy percentage:', evaluate(test_set_predictions, y_test))"
   ]
  }
 ],
 "metadata": {
  "colab": {
   "authorship_tag": "ABX9TyNe7tGhB0SYPO5nFae+qAN+",
   "name": "Logistic-Regression.ipynb",
   "provenance": []
  },
  "kernelspec": {
   "display_name": "Python 3",
   "language": "python",
   "name": "python3"
  },
  "language_info": {
   "codemirror_mode": {
    "name": "ipython",
    "version": 3
   },
   "file_extension": ".py",
   "mimetype": "text/x-python",
   "name": "python",
   "nbconvert_exporter": "python",
   "pygments_lexer": "ipython3",
   "version": "3.7.6"
  }
 },
 "nbformat": 4,
 "nbformat_minor": 4
}
