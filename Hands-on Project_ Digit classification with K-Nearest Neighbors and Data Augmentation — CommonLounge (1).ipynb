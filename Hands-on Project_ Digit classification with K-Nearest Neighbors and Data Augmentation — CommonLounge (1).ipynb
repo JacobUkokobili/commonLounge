{
 "cells": [
  {
   "cell_type": "code",
   "execution_count": null,
   "metadata": {
    "id": "8vM89u9B8uD7"
   },
   "outputs": [],
   "source": [
    "import pickle, gzip\n",
    "import numpy as np"
   ]
  },
  {
   "cell_type": "code",
   "execution_count": null,
   "metadata": {
    "colab": {
     "base_uri": "https://localhost:8080/",
     "height": 68
    },
    "executionInfo": {
     "elapsed": 1761,
     "status": "ok",
     "timestamp": 1558112916808,
     "user": {
      "displayName": "Anant Jain",
      "photoUrl": "https://lh3.googleusercontent.com/-zkOMU114fB0/AAAAAAAAAAI/AAAAAAAAxVE/Av7qRET2I98/s64/photo.jpg",
      "userId": "15207670452578651431"
     },
     "user_tz": 420
    },
    "id": "Jm7p-Q-583hE",
    "outputId": "420db795-7e62-4693-9cfa-f2500a5afcb5"
   },
   "outputs": [
    {
     "name": "stdout",
     "output_type": "stream",
     "text": [
      "training data points: 10000\n",
      "validation data points: 2000\n",
      "testing data points: 2000\n"
     ]
    }
   ],
   "source": [
    "## load data\n",
    " \n",
    "f = gzip.open('mnist_10000.pkl.gz', 'rb')\n",
    "trainData, trainLabels, valData, valLabels, testData, testLabels = pickle.load(\n",
    "    f, encoding='latin1')\n",
    "f.close()\n",
    " \n",
    "print(\"training data points: {}\".format(len(trainLabels)))\n",
    "print(\"validation data points: {}\".format(len(valLabels)))\n",
    "print(\"testing data points: {}\".format(len(testLabels)))"
   ]
  },
  {
   "cell_type": "code",
   "execution_count": null,
   "metadata": {
    "id": "oMz1VoLq9DBO"
   },
   "outputs": [],
   "source": [
    "from sklearn.neighbors import KNeighborsClassifier"
   ]
  },
  {
   "cell_type": "code",
   "execution_count": null,
   "metadata": {
    "colab": {
     "base_uri": "https://localhost:8080/",
     "height": 119
    },
    "executionInfo": {
     "elapsed": 255734,
     "status": "ok",
     "timestamp": 1558113170822,
     "user": {
      "displayName": "Anant Jain",
      "photoUrl": "https://lh3.googleusercontent.com/-zkOMU114fB0/AAAAAAAAAAI/AAAAAAAAxVE/Av7qRET2I98/s64/photo.jpg",
      "userId": "15207670452578651431"
     },
     "user_tz": 420
    },
    "id": "Mq8AUd4W9HE1",
    "outputId": "20b86831-ba46-4aee-8d29-0ee46938be77"
   },
   "outputs": [
    {
     "name": "stdout",
     "output_type": "stream",
     "text": [
      "1 0.947\n",
      "3 0.953\n",
      "5 0.948\n",
      "9 0.9405\n",
      "15 0.9335\n",
      "25 0.9235\n"
     ]
    }
   ],
   "source": [
    "## train model\n",
    " \n",
    "for k in [1, 3, 5, 9, 15, 25, ]:\n",
    "    model = KNeighborsClassifier(n_neighbors=k)\n",
    "    model.fit(trainData, trainLabels)\n",
    "    # KNeighborsClassifier(algorithm='auto', leaf_size=30, metric='minkowski',\n",
    "    #            metric_params=None, n_jobs=1, n_neighbors=5, p=2,\n",
    "    #            weights='uniform')\n",
    " \n",
    "    score = model.score(valData, valLabels)\n",
    "    print(k, score) "
   ]
  },
  {
   "cell_type": "code",
   "execution_count": null,
   "metadata": {
    "colab": {
     "base_uri": "https://localhost:8080/",
     "height": 34
    },
    "executionInfo": {
     "elapsed": 298178,
     "status": "ok",
     "timestamp": 1558113213281,
     "user": {
      "displayName": "Anant Jain",
      "photoUrl": "https://lh3.googleusercontent.com/-zkOMU114fB0/AAAAAAAAAAI/AAAAAAAAxVE/Av7qRET2I98/s64/photo.jpg",
      "userId": "15207670452578651431"
     },
     "user_tz": 420
    },
    "id": "pUfWJP719KQE",
    "outputId": "7649cfc2-4c80-4dd9-efb4-7881abaa8f6b"
   },
   "outputs": [
    {
     "name": "stdout",
     "output_type": "stream",
     "text": [
      "Achieved accuracy of 92.35% on test data\n"
     ]
    }
   ],
   "source": [
    "# re-train our classifier using the best k value and predict the labels of the\n",
    "# test data\n",
    "model = KNeighborsClassifier(n_neighbors=3)\n",
    "model.fit(trainData, trainLabels)\n",
    "accuracy = model.score(testData, testLabels)\n",
    "print(\"Achieved accuracy of %.2f%% on test data\" % (accuracy*100))"
   ]
  },
  {
   "cell_type": "code",
   "execution_count": null,
   "metadata": {
    "colab": {
     "base_uri": "https://localhost:8080/",
     "height": 323
    },
    "executionInfo": {
     "elapsed": 339546,
     "status": "ok",
     "timestamp": 1558113254658,
     "user": {
      "displayName": "Anant Jain",
      "photoUrl": "https://lh3.googleusercontent.com/-zkOMU114fB0/AAAAAAAAAAI/AAAAAAAAxVE/Av7qRET2I98/s64/photo.jpg",
      "userId": "15207670452578651431"
     },
     "user_tz": 420
    },
    "id": "cUT2rBwY9MRh",
    "outputId": "ed964689-14f6-4850-8e56-653699c9d42d"
   },
   "outputs": [
    {
     "name": "stdout",
     "output_type": "stream",
     "text": [
      "Classification Report\n",
      "              precision    recall  f1-score   support\n",
      "\n",
      "           0       0.94      1.00      0.97       175\n",
      "           1       0.90      1.00      0.95       234\n",
      "           2       0.98      0.89      0.93       219\n",
      "           3       0.91      0.91      0.91       207\n",
      "           4       0.94      0.94      0.94       217\n",
      "           5       0.91      0.91      0.91       179\n",
      "           6       0.95      0.97      0.96       178\n",
      "           7       0.89      0.91      0.90       205\n",
      "           8       0.95      0.80      0.87       192\n",
      "           9       0.89      0.90      0.89       194\n",
      "\n",
      "   micro avg       0.92      0.92      0.92      2000\n",
      "   macro avg       0.92      0.92      0.92      2000\n",
      "weighted avg       0.92      0.92      0.92      2000\n",
      "\n"
     ]
    }
   ],
   "source": [
    "from sklearn.metrics import classification_report\n",
    "# show a final classification report demonstrating the accuracy of the classifier\n",
    "# for each of the digits\n",
    "predictions = model.predict(testData)\n",
    "print(\"Classification Report\")\n",
    "print(classification_report(testLabels, predictions))"
   ]
  },
  {
   "cell_type": "code",
   "execution_count": null,
   "metadata": {
    "colab": {
     "base_uri": "https://localhost:8080/",
     "height": 204
    },
    "executionInfo": {
     "elapsed": 339539,
     "status": "ok",
     "timestamp": 1558113254660,
     "user": {
      "displayName": "Anant Jain",
      "photoUrl": "https://lh3.googleusercontent.com/-zkOMU114fB0/AAAAAAAAAAI/AAAAAAAAxVE/Av7qRET2I98/s64/photo.jpg",
      "userId": "15207670452578651431"
     },
     "user_tz": 420
    },
    "id": "Ug62-h8d9OK3",
    "outputId": "5db388c6-e05e-4385-8478-40f4bb7dd835"
   },
   "outputs": [
    {
     "name": "stdout",
     "output_type": "stream",
     "text": [
      "Confusion Matrix\n",
      "[[175   0   0   0   0   0   0   0   0   0]\n",
      " [  0 234   0   0   0   0   0   0   0   0]\n",
      " [  5   5 196   0   0   0   3   8   2   0]\n",
      " [  0   1   1 189   0   4   2   4   3   3]\n",
      " [  0   3   0   0 203   0   2   0   1   8]\n",
      " [  2   0   0   7   1 163   1   2   0   3]\n",
      " [  2   1   0   0   1   1 173   0   0   0]\n",
      " [  0  11   0   1   2   1   0 186   0   4]\n",
      " [  3   4   4   8   3   8   1   3 154   4]\n",
      " [  0   1   0   3   6   2   0   6   2 174]]\n"
     ]
    }
   ],
   "source": [
    "from sklearn.metrics import confusion_matrix\n",
    "print(\"Confusion Matrix\")\n",
    "print(confusion_matrix(testLabels, predictions))"
   ]
  },
  {
   "cell_type": "code",
   "execution_count": null,
   "metadata": {
    "id": "PKlSBCLXALHu"
   },
   "outputs": [],
   "source": []
  }
 ],
 "metadata": {
  "colab": {
   "collapsed_sections": [],
   "name": "Hands-on Project: Digit classification with K-Nearest Neighbors and Data Augmentation — CommonLounge.ipynb",
   "provenance": [
    {
     "file_id": "1oGVRZSIwk-fnfngSIfMnE62j0JUvT6LE",
     "timestamp": 1601536248616
    }
   ]
  },
  "kernelspec": {
   "display_name": "Python 3",
   "language": "python",
   "name": "python3"
  },
  "language_info": {
   "codemirror_mode": {
    "name": "ipython",
    "version": 3
   },
   "file_extension": ".py",
   "mimetype": "text/x-python",
   "name": "python",
   "nbconvert_exporter": "python",
   "pygments_lexer": "ipython3",
   "version": "3.7.6"
  }
 },
 "nbformat": 4,
 "nbformat_minor": 4
}
